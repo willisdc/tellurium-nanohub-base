{
 "cells": [
  {
   "cell_type": "markdown",
   "id": "de288d9b",
   "metadata": {},
   "source": [
    "# Cdc2 Cyclin Model\n",
    "Drew Willis\n",
    "\n",
    "Source:</br>\n",
    "Tyson, J. J. “Modeling the Cell Division Cycle: Cdc2 and Cyclin Interactions.” \n",
    "Proceedings of the National Academy of Sciences, vol. 88, no. 16, 1991, pp. 7328–7332., doi:10.1073/pnas.88.16.7328. https://www.pnas.org/content/pnas/88/16/7328.full.pdf\n",
    "\n",
    "\n",
    "This is a recreation of Tyson's Cdc2 and Cyclin Interactions model, and includes extra tools to explore other aspects of the model."
   ]
  },
  {
   "cell_type": "code",
   "execution_count": 1,
   "id": "52892248",
   "metadata": {},
   "outputs": [],
   "source": [
    "import tellurium as te\n",
    "import numpy as np\n",
    "import ipywidgets as widgets\n",
    "import matplotlib.pyplot as plt\n",
    "from ipywidgets import *\n",
    "from IPython.display import display, update_display"
   ]
  },
  {
   "attachments": {
    "cyclediagram-2.png": {
     "image/png": "[encoded data removed]"
    }
   },
   "cell_type": "markdown",
   "id": "3b94df58",
   "metadata": {},
   "source": [
    "## Background\n",
    "(still need description here, recommend reading the abstract (bold text) here: https://www.pnas.org/content/pnas/88/16/7328.full.pdf)\n",
    "\n",
    "The cell cycle is composed of cell growth and mitosis. These processes have been shown to operate differently in relation to each other. We look at the cell cycle as two processes:\n",
    "* Cell Growth cycle\n",
    "* Cell Division cycle\n",
    "\n",
    "The division cycle is determined by an enzyme, the maturation promoting factor (MPF). It is formed by cdc2 and cyclin in the cell and is autocatalytic. The MPF enzyme is necessary for mitotic processes to occur. Once the cell reaches anaphase, MPF is degraded and the cycle repeats.\n",
    "\n",
    "MPF activation can depend on cell growth, cyclin levels in the cell, or other enzymes, depending on the cell type and environment.\n",
    "\n",
    "\n",
    "![cyclediagram-2.png](attachment:cyclediagram-2.png)\n",
    "(Tyson)\n",
    "\n",
    "In the model, this process is represented by 9 steps:\n",
    "1. cyclin is created\n",
    "2. cyclin can be unstable and be destroyed\n",
    "3. cyclin is phosphorylated and forms heterodimer with \n",
    "4. cdc2-P to form preMPF\n",
    "5. preMPF is dephosphorylated to form active MPF\n",
    "6. MPF activation can be opposed\n",
    "7. Nuclear is division triggered, and active MPF is destroyed, releasing phosphorylated cyclin\n",
    "8. Phosphorylated cyclin is destroyed\n",
    "9. cdc2 is phosphorylated\n",
    "10. cdc2 can be reversed\n",
    "\n",
    "The original paper uses a series of differential equations, but I have chosen to represent the model in arrow equation format that is functionally the same.\n",
    "#### Model equations\n",
    "1. C2 -> CP ; k8*P*C2\n",
    "2. CP -> C2 ; k9*CP\n",
    "3. CP -> pM ; k3*CP*Y\n",
    "4. pM -> M ; pM * (k4p + k4*(M/CT)^2)\n",
    "5. M -> pM ; k5*P*M\n",
    "6. M -> C2 ; k6*M\n",
    "7.   -> Y ; k1*aa\n",
    "8. Y ->   ; k2*Y + k3*CP*Y\n",
    "9.    -> YP ; k6*M\n",
    "10. YP ->    ; k7*YP\n",
    "\n",
    "(will clean up these equations with better formatting for readability)\n",
    "##### Variable descriptions\n",
    "* aa  : amino acids \n",
    "* C2  : cdc2\n",
    "* CP  : cdc2-P\n",
    "* pM  : P-cyclin-cdc2-P / preMPF\n",
    "* M   : P-cyclin-cdc2   / active MPF\n",
    "* Y   : cyclin\n",
    "* CP  : cyclin-P\n",
    "* CT  : total cdc2\n",
    "* k4 > k4p\n",
    "\n",
    "#### Expected Result\n",
    "The conclusion of the original paper found three states in which the system would operate:\n",
    "\n",
    "1. Steady state high MPF activity\n",
    "2. Autonomous oscillations\n",
    "3. Excitable steady state\n",
    "\n",
    "## Cycle Model"
   ]
  },
  {
   "cell_type": "code",
   "execution_count": 2,
   "id": "3c04e985",
   "metadata": {
    "scrolled": false
   },
   "outputs": [],
   "source": [
    "# ----< DEFINE MODEL >----\n",
    "model = '''\n",
    "    // Equations\n",
    "    E1: C2 -> CP ; k8*P*C2\n",
    "    E2: CP -> C2 ; k9*CP\n",
    "    E3: CP -> pM ; k3*CP*Y\n",
    "    E4: pM -> M ; pM * (k4p + k4*(M/CT)^2)\n",
    "    E5: M -> pM ; k5*P*M\n",
    "    E6: M -> C2 ; k6*M\n",
    "    E7:   -> Y ; k1*aa\n",
    "    E8: Y ->   ; k2*Y + k3*CP*Y\n",
    "    E9:    -> YP ; k6*M\n",
    "    E10: YP ->    ; k7*YP\n",
    "    \n",
    "    \n",
    "    CT := C2+CP+pM+M\n",
    "    \n",
    "    // Inputs\n",
    "    k1 := 0.015*CT/aa\n",
    "    k2 = 0\n",
    "    k3 := 200/CT\n",
    "    k4 = 100\n",
    "    k4p = 0.018\n",
    "    k5 = 0\n",
    "    k6 = 0.5\n",
    "    k7 = 0.6\n",
    "    k8 = 100\n",
    "    k9 = 10\n",
    "    P = 1\n",
    "    aa = 1\n",
    "    \n",
    "    C2 = 0.1\n",
    "    CP = 1\n",
    "    pM = 0.1\n",
    "    M = 0.1\n",
    "    Y = 0.1\n",
    "    YP = 0.1\n",
    "    \n",
    "\n",
    "'''\n",
    "\n",
    "    \n",
    "# ----< WIDGETS >----\n",
    "\n",
    "# model parameters\n",
    "style = {'description_width': 'initial'}\n",
    "k4_widget = widgets.FloatSlider(\n",
    "    description='k4 rate constant',\n",
    "    value=100.0,\n",
    "    min=10.0,\n",
    "    max=1000.0,\n",
    "    continuous_update=False,\n",
    "    style=style\n",
    ")\n",
    "k6_widget = widgets.FloatSlider(\n",
    "    description='k6 rate constant',\n",
    "    value=0.5,\n",
    "    min=0.1,\n",
    "    max=10.0,\n",
    "    continuous_update=False,\n",
    "    style=style\n",
    ")\n",
    "\n",
    "k8_widget = widgets.FloatSlider(\n",
    "    description='k8 rate constant',\n",
    "    value=0.5,\n",
    "    min=10.0,\n",
    "    max=200.0,\n",
    "    continuous_update=False,\n",
    "    style=style\n",
    ")\n",
    "\n",
    "k9_widget = widgets.FloatSlider(\n",
    "    description='k9 rate constant',\n",
    "    value=10.0,\n",
    "    min=10.0,\n",
    "    max=200.0,\n",
    "    continuous_update=False,\n",
    "    style=style\n",
    ")\n",
    "\n",
    "# simulation settings\n",
    "sim_length_widget = widgets.IntSlider(\n",
    "    description='simulation length',\n",
    "    value=100,\n",
    "    min=2,\n",
    "    max=1000,\n",
    "    continuous_update=False,\n",
    "    style=style\n",
    ")\n",
    "sim_points_widget = widgets.IntSlider(\n",
    "    description='simulated points',\n",
    "    value=1000,\n",
    "    min=2,\n",
    "    max=20000,\n",
    "    continuous_update=False,\n",
    "    style=style\n",
    ")\n",
    "\n",
    "\n",
    "# display toggles\n",
    "C2_widget = widgets.ToggleButton(\n",
    "    description='C2 toggle',\n",
    "    value=True,\n",
    ")\n",
    "CP_widget = widgets.ToggleButton(\n",
    "    description='CP toggle',\n",
    "    value=True,\n",
    ")\n",
    "pM_widget = widgets.ToggleButton(\n",
    "    description='pM toggle',\n",
    "    value=True,\n",
    ")\n",
    "Y_widget = widgets.ToggleButton(\n",
    "    description='Y toggle',\n",
    "    value=True,\n",
    ")\n",
    "M_widget = widgets.ToggleButton(\n",
    "    description='M toggle',\n",
    "    value=True,\n",
    ")\n",
    "YP_widget = widgets.ToggleButton(\n",
    "    description='YP toggle',\n",
    "    value=True,\n",
    ")\n",
    "yscale_widget = widgets.ToggleButton(\n",
    "    description='yscale: linear',\n",
    "    value=False\n",
    ")\n",
    "\n",
    "center_align = widgets.Layout(display='justify-content',\n",
    "                flex_flow='column',\n",
    "                align_items='stretch',\n",
    "                width='100%')\n",
    "right_align = widgets.Layout(display='flex',\n",
    "                flex_flow='column',\n",
    "                align_items='flex-end',\n",
    "                width='100%')\n",
    "left_vbox = widgets.VBox([k4_widget,k6_widget,k8_widget,k9_widget])\n",
    "right_vbox = widgets.VBox([sim_length_widget,sim_points_widget])\n",
    "simulation_hbox = widgets.HBox([left_vbox,right_vbox],layout=center_align)\n",
    "yscale_hbox = widgets.HBox([yscale_widget], layout=right_align)\n",
    "display_toggles_hbox = widgets.HBox([C2_widget,CP_widget,pM_widget,Y_widget,M_widget,YP_widget])\n",
    "\n",
    "\n",
    "# ----< PLOT SETUP >----\n",
    "\n",
    "fig, axs = plt.subplots(1,figsize=(15,7))\n",
    "plt.close()\n",
    "fig2, axs2 = plt.subplots(1, figsize=(7,7))\n",
    "axs.set(title='cdc2 cyclin model',xlabel='time',ylabel='variable')\n",
    "axs2.set(title='pM vs YP',xlabel='pM',ylabel='YP')\n",
    "plt.close()\n",
    "\n",
    "\n",
    "# ----< INTERACT AND RUN >----\n",
    "\n",
    "def RunModel(*args):\n",
    "    # reload model in case user interacts with other cells and touches these widgets\n",
    "    m = te.loada(model) \n",
    "    \n",
    "\n",
    "    m.k4 = k4_widget.value\n",
    "    m.k6 = k6_widget.value\n",
    "    m.k8 = k8_widget.value\n",
    "    m.k9 = k9_widget.value\n",
    "    s = m.simulate(0,sim_length_widget.value,sim_points_widget.value,['time','C2','CP','pM','Y','M','YP'])\n",
    "    \n",
    "    axs.set(xlim=[0,sim_length_widget.value])\n",
    "    linewidth = 2\n",
    "    if C2_widget.value:\n",
    "        axs.plot(s['time'],s['C2'],linewidth=linewidth,label='C2')\n",
    "    if CP_widget.value:\n",
    "        axs.plot(s['time'],s['CP'],linewidth=linewidth,label='CP')\n",
    "    if pM_widget.value:\n",
    "        axs.plot(s['time'],s['pM'],linewidth=linewidth,label='pM')\n",
    "    if Y_widget.value:\n",
    "        axs.plot(s['time'],s['Y'],linewidth=linewidth,label='Y')\n",
    "    if M_widget.value:\n",
    "        axs.plot(s['time'],s['M'],linewidth=linewidth,label='M')\n",
    "    if YP_widget.value:\n",
    "        axs.plot(s['time'],s['YP'],linewidth=linewidth,label='YP')\n",
    "    if axs.lines:\n",
    "        axs.legend(bbox_to_anchor=(0.1, -0.175, 0.8, .102), loc=2, ncol=3, mode=\"expand\",fontsize='large')\n",
    "    axs2.plot(s['pM'],s['YP'])\n",
    "    update_display(display_id=\"0\", obj=fig)\n",
    "    update_display(display_id=\"1\", obj=fig2)\n",
    "    axs.cla()\n",
    "    axs2.cla()\n",
    "    axs.set(title='cdc2 cyclin model',xlabel='time',ylabel='variable')\n",
    "    axs2.set(title='pM vs YP',xlabel='pM',ylabel='YP')\n",
    "\n",
    "for i in range(len(left_vbox.children)):\n",
    "    left_vbox.children[i].observe(RunModel,names='value')\n",
    "for i in range(len(right_vbox.children)):\n",
    "    right_vbox.children[i].observe(RunModel,names='value')\n",
    "for i in range(len(display_toggles_hbox.children)):\n",
    "    display_toggles_hbox.children[i].observe(RunModel,names='value')\n",
    "\n",
    "RunModel()"
   ]
  },
  {
   "cell_type": "markdown",
   "id": "1a13eee1",
   "metadata": {},
   "source": [
    "## Model\n",
    "\n",
    "Use the toggles to show and hide each component. The included rate constants have boundaries defined by the original paper. (Although k6 values should be rather low on the slider.)"
   ]
  },
  {
   "cell_type": "code",
   "execution_count": 3,
   "id": "b344f621",
   "metadata": {},
   "outputs": [
    {
     "data": {
      "image/png": "[encoded data removed]",
      "text/plain": [
       "<Figure size 1080x504 with 1 Axes>"
      ]
     },
     "metadata": {},
     "output_type": "display_data"
    },
    {
     "data": {
      "application/vnd.jupyter.widget-view+json": {
       "model_id": "e04f8e22fdff4d84afc96c9b0337b7ae",
       "version_major": 2,
       "version_minor": 0
      },
      "text/plain": [
       "HBox(children=(ToggleButton(value=True, description='C2 toggle'), ToggleButton(value=True, description='CP tog…"
      ]
     },
     "metadata": {},
     "output_type": "display_data"
    },
    {
     "data": {
      "application/vnd.jupyter.widget-view+json": {
       "model_id": "e473a833fd5d4b58be4d3049a0eb96e1",
       "version_major": 2,
       "version_minor": 0
      },
      "text/plain": [
       "HBox(children=(VBox(children=(FloatSlider(value=100.0, continuous_update=False, description='k4 rate constant'…"
      ]
     },
     "metadata": {},
     "output_type": "display_data"
    },
    {
     "data": {
      "application/vnd.jupyter.widget-view+json": {
       "model_id": "96ae6d0e8ec74a6393a6ab80cf74a4da",
       "version_major": 2,
       "version_minor": 0
      },
      "text/plain": [
       "HBox(children=(ToggleButton(value=False, description='yscale: linear'),), layout=Layout(align_items='flex-end'…"
      ]
     },
     "metadata": {},
     "output_type": "display_data"
    }
   ],
   "source": [
    "display(fig, display_id=\"0\")\n",
    "display(display_toggles_hbox)\n",
    "display(simulation_hbox)\n",
    "display(yscale_hbox)"
   ]
  },
  {
   "cell_type": "markdown",
   "id": "15a55883",
   "metadata": {},
   "source": [
    "## Simulation Energy\n",
    "Reading this graph can tell you about the energy of the system and whether or not it will continue to oscillate.\n",
    "\n",
    "I have chosen to graph YP against pM since their oscillations are always out of sync.\n",
    "* Large loops in this graph indicate continuous oscillations.\n",
    "* Loops decaying inwards indicate the steady state with high MPF activity.\n",
    "* Loops that break outwards indicate the excitable switch with low MPF activity.\n",
    "\n",
    "(still need a better way to describe this section)"
   ]
  },
  {
   "cell_type": "code",
   "execution_count": 4,
   "id": "1007d1ee",
   "metadata": {},
   "outputs": [
    {
     "data": {
      "image/png": "[encoded data removed]",
      "text/plain": [
       "<Figure size 504x504 with 1 Axes>"
      ]
     },
     "metadata": {},
     "output_type": "display_data"
    },
    {
     "data": {
      "application/vnd.jupyter.widget-view+json": {
       "model_id": "e04f8e22fdff4d84afc96c9b0337b7ae",
       "version_major": 2,
       "version_minor": 0
      },
      "text/plain": [
       "HBox(children=(ToggleButton(value=True, description='C2 toggle'), ToggleButton(value=True, description='CP tog…"
      ]
     },
     "metadata": {},
     "output_type": "display_data"
    },
    {
     "data": {
      "application/vnd.jupyter.widget-view+json": {
       "model_id": "e473a833fd5d4b58be4d3049a0eb96e1",
       "version_major": 2,
       "version_minor": 0
      },
      "text/plain": [
       "HBox(children=(VBox(children=(FloatSlider(value=100.0, continuous_update=False, description='k4 rate constant'…"
      ]
     },
     "metadata": {},
     "output_type": "display_data"
    }
   ],
   "source": [
    "display(fig2, display_id=\"1\")\n",
    "display(display_toggles_hbox)\n",
    "display(simulation_hbox)"
   ]
  },
  {
   "cell_type": "markdown",
   "id": "bd315ccb",
   "metadata": {},
   "source": [
    "### Parameter Scan"
   ]
  },
  {
   "cell_type": "code",
   "execution_count": 5,
   "id": "673577bd",
   "metadata": {},
   "outputs": [],
   "source": [
    "# ----< DEFINE MODEL >----\n",
    "model = '''\n",
    "    // Equations\n",
    "    E1: C2 -> CP ; k8*P*C2\n",
    "    E2: CP -> C2 ; k9*CP\n",
    "    E3: CP -> pM ; k3*CP*Y\n",
    "    E4: pM -> M ; pM * (k4p + k4*(M/CT)^2)\n",
    "    E5: M -> pM ; k5*P*M\n",
    "    E6: M -> C2 ; k6*M\n",
    "    E7:   -> Y ; k1*aa\n",
    "    E8: Y ->   ; k2*Y\n",
    "    E9: Y ->   ; k3*CP*Y\n",
    "    E10:    -> YP ; k6*M\n",
    "    E11: YP ->    ; k7*YP\n",
    "    \n",
    "    \n",
    "    CT := C2+CP+pM+M\n",
    "    \n",
    "    // Inputs\n",
    "    k1 := 0.015*CT/aa\n",
    "    k2 = 0\n",
    "    k3 := 200/CT\n",
    "    k4 = 100\n",
    "    k4p = 0.018\n",
    "    k5 = 0\n",
    "    k6 = 0.5\n",
    "    k7 = 0.6\n",
    "    k8 = 100\n",
    "    k9 = 10\n",
    "    P = 1\n",
    "    aa = 1\n",
    "    \n",
    "    C2 = 0.1\n",
    "    CP = 1\n",
    "    pM = 0.1\n",
    "    M = 0.1\n",
    "    Y = 0.1\n",
    "    YP = 0.1\n",
    "    \n",
    "\n",
    "'''\n",
    "\n",
    "    \n",
    "# ----< WIDGETS >----\n",
    "\n",
    "# model parameters\n",
    "style = {'description_width': 'initial'}\n",
    "\n",
    "k8_widget = widgets.FloatSlider(\n",
    "    description='k8 rate constant',\n",
    "    value=0.5,\n",
    "    min=100.0,\n",
    "    max=200.0,\n",
    "    continuous_update=False,\n",
    "    style=style\n",
    ")\n",
    "\n",
    "k9_widget = widgets.FloatSlider(\n",
    "    description='k9 rate constant',\n",
    "    value=10.0,\n",
    "    min=10.0,\n",
    "    max=200.0,\n",
    "    continuous_update=False,\n",
    "    style=style\n",
    ")\n",
    "\n",
    "# simulation settings\n",
    "sim_length_widget = widgets.IntSlider(\n",
    "    description='simulation length',\n",
    "    value=250,\n",
    "    min=2,\n",
    "    max=1000,\n",
    "    continuous_update=False,\n",
    "    style=style\n",
    ")\n",
    "sim_points_widget = widgets.IntSlider(\n",
    "    description='simulated points',\n",
    "    value=500,\n",
    "    min=2,\n",
    "    max=20000,\n",
    "    continuous_update=False,\n",
    "    style=style\n",
    ")\n",
    "\n",
    "\n",
    "left_vbox = widgets.VBox([k8_widget,k9_widget])\n",
    "right_vbox = widgets.VBox([sim_length_widget,sim_points_widget])\n",
    "simulation_hbox = widgets.HBox([left_vbox,right_vbox])\n",
    "\n",
    "\n",
    "# ----< PLOT SETUP >----\n",
    "\n",
    "fig, axs = plt.subplots(1,figsize=(7,7))\n",
    "axs.set(title='k4 vs k6 oscillation occurences',xlabel='k6',ylabel='k4')\n",
    "plt.close()\n",
    "\n",
    "\n",
    "# ----< INTERACT AND RUN >----\n",
    "def GetState(s):\n",
    "    oscillations=0\n",
    "    flip=False\n",
    "    highYP=0\n",
    "    highpM=0\n",
    "    for i in range(int(len(s)/2),len(s['pM'])):\n",
    "        if flip:\n",
    "            highYP+=1\n",
    "            if s['pM'][i]>s['YP'][i]+0.075:\n",
    "                oscillations += 1\n",
    "                flip=False\n",
    "        else:\n",
    "            highpM+=1\n",
    "            if s['pM'][i]<s['YP'][i]+0.075:\n",
    "                oscillations += 1\n",
    "                flip=True\n",
    "    if oscillations>7:\n",
    "        return \"green\"\n",
    "    else:\n",
    "        if highYP>highpM:\n",
    "            return \"red\"\n",
    "        else:\n",
    "            return \"orange\"\n",
    "    \n",
    "            \n",
    "        \n",
    "    \n",
    "def RunModel(*args):\n",
    "    # reload model in case user interacts with other cells and touches these widgets\n",
    "    m = te.loada(model) \n",
    "    x=[]\n",
    "    y=[]\n",
    "    color=[]\n",
    "    for lk4 in np.arange(1.0,3.0,0.1):\n",
    "        for lk6 in np.arange(-1.0,1.0,0.1):\n",
    "            m.resetAll()\n",
    "            m.k4 = 10**lk4\n",
    "            m.k6 = 10**lk6\n",
    "            m.k8 = k8_widget.value\n",
    "            m.k9 = k9_widget.value\n",
    "            s = m.simulate(0,sim_length_widget.value,sim_points_widget.value,['time','C2','CP','pM','Y','M','YP'])\n",
    "            state = GetState(s)\n",
    "            x.append(10**lk6)\n",
    "            y.append(10**lk4)\n",
    "            color.append(state)\n",
    "    axs.scatter(x=x,y=y,color=color,label=color)\n",
    "    axs.set(yscale='log',xscale='log')\n",
    "    \n",
    "    axs.legend(bbox_to_anchor=(0.1, -0.175, 0.8, .102), loc=2, ncol=3, mode=\"expand\",fontsize='large')\n",
    "    #axs.set(xlim=[0,10],ylim=[10,20])\n",
    "    update_display(display_id=\"2\", obj=fig)\n",
    "    \n",
    "    #axs.lines=[]\n",
    "    axs.cla()\n",
    "    axs.set(title='k4 vs k6 oscillation occurences',xlabel='k6',ylabel='k4')\n",
    "\n",
    "for i in range(len(left_vbox.children)):\n",
    "    left_vbox.children[i].observe(RunModel,names='value')\n",
    "for i in range(len(right_vbox.children)):\n",
    "    right_vbox.children[i].observe(RunModel,names='value')\n"
   ]
  },
  {
   "cell_type": "markdown",
   "id": "70a7b7dd",
   "metadata": {},
   "source": [
    "## Parameter Scan\n",
    "From the model and the paper we see that k4 and k6 are the most important factors that determine the fate of the simulation. We can do a parameter scan of k4 and k6 to see a 2-dimensional plot of the results\n",
    "\n",
    "Sliders for k8 and k9 are included to observe whether or not they have a significant impact on the state of the simulation.\n",
    "\n",
    "(The legend is currently broken)\n",
    "* red : steady state, high MPF activity\n",
    "* green : continuous oscillations\n",
    "* yellow : excitable switch, low MPF activity"
   ]
  },
  {
   "cell_type": "code",
   "execution_count": 6,
   "id": "ed70fd0e",
   "metadata": {},
   "outputs": [
    {
     "data": {
      "image/png": "[encoded data removed]",
      "text/plain": [
       "<Figure size 504x504 with 1 Axes>"
      ]
     },
     "metadata": {},
     "output_type": "display_data"
    },
    {
     "data": {
      "application/vnd.jupyter.widget-view+json": {
       "model_id": "2fe0128eb04e4aa39f5b74ffbcb05316",
       "version_major": 2,
       "version_minor": 0
      },
      "text/plain": [
       "HBox(children=(VBox(children=(FloatSlider(value=100.0, continuous_update=False, description='k8 rate constant'…"
      ]
     },
     "metadata": {},
     "output_type": "display_data"
    }
   ],
   "source": [
    "display(fig, display_id=\"2\")\n",
    "display(simulation_hbox)"
   ]
  },
  {
   "cell_type": "markdown",
   "id": "5b45f542",
   "metadata": {},
   "source": [
    "We clearly see how low k6 and high k4 tends to the steady state and the reverse tends to the excitable switch. This result looks very similar to the results of fig. 2 in the original paper.\n",
    "\n",
    "I believe this graph also definitively shows k8 and k9 have no effect on the simulation."
   ]
  },
  {
   "cell_type": "markdown",
   "id": "5378a41f",
   "metadata": {},
   "source": [
    "# Source\n",
    "Tyson, J. J. “Modeling the Cell Division Cycle: Cdc2 and Cyclin Interactions.” Proceedings of the National Academy of Sciences, vol. 88, no. 16, 1991, pp. 7328–7332., doi:10.1073/pnas.88.16.7328.\n",
    "https://www.pnas.org/content/pnas/88/16/7328.full.pdf"
   ]
  }
 ],
 "metadata": {
  "kernelspec": {
   "display_name": "Python 3 (ipykernel)",
   "language": "python",
   "name": "python3"
  },
  "language_info": {
   "codemirror_mode": {
    "name": "ipython",
    "version": 3
   },
   "file_extension": ".py",
   "mimetype": "text/x-python",
   "name": "python",
   "nbconvert_exporter": "python",
   "pygments_lexer": "ipython3",
   "version": "3.9.7"
  }
 },
 "nbformat": 4,
 "nbformat_minor": 5
}
